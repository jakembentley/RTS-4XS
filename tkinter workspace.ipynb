{
 "cells": [
  {
   "cell_type": "code",
   "execution_count": 48,
   "metadata": {
    "collapsed": true
   },
   "outputs": [],
   "source": [
    "import tkinter as tk\n",
    "import celestials as c\n",
    "from random import randint"
   ]
  },
  {
   "cell_type": "code",
   "execution_count": 53,
   "metadata": {
    "collapsed": true
   },
   "outputs": [],
   "source": [
    "star = c.Star()"
   ]
  },
  {
   "cell_type": "code",
   "execution_count": 54,
   "metadata": {
    "collapsed": true
   },
   "outputs": [],
   "source": [
    "def max_Coord(star, lcx, lcy, rcx, rcy):\n",
    "    left = True\n",
    "    up = 1\n",
    "    for item in star.celestials:\n",
    "        if left == True:\n",
    "            lcx = lcx - item.radius\n",
    "            left = False\n",
    "            if up == 1:\n",
    "\n",
    "                lcy = lcy + item.radius*4\n",
    "                up = randint(0,1)\n",
    "                lcx = lcx - star.radius/2\n",
    "                lcy = lcy + star.radius/2\n",
    "\n",
    "            else:\n",
    "\n",
    "                lcy = lcy - item.radius*4\n",
    "                lcx = lcx - star.radius/2\n",
    "                lcy = lcy - star.radius/2\n",
    "        else:\n",
    "            rcx = rcx + item.radius*4\n",
    "            left = True\n",
    "            if up == 1:\n",
    "                rcy = rcy + item.radius*4\n",
    "                up = randint(0,1)\n",
    "                rcx = rcx + star.radius/2\n",
    "                rcy = rcy + star.radius/2\n",
    "            else:\n",
    "\n",
    "                rcy = rcy - item.radius*4\n",
    "                up = randint(0,1)\n",
    "                rcx = rcx + star.radius/2\n",
    "                rcy = rcy - star.radius/2\n",
    "    return lcx, lcy, rcx, rcy\n",
    "    "
   ]
  },
  {
   "cell_type": "code",
   "execution_count": 55,
   "metadata": {
    "collapsed": false
   },
   "outputs": [
    {
     "name": "stdout",
     "output_type": "stream",
     "text": [
      "jovian 0.03\n",
      "comet 0.01\n",
      "comet 0.01\n",
      "jovian 0.03\n",
      "jovian 0.03\n"
     ]
    }
   ],
   "source": [
    "for item in star.celestials:\n",
    "    print(item.category, item.radius)"
   ]
  },
  {
   "cell_type": "code",
   "execution_count": 56,
   "metadata": {
    "collapsed": false
   },
   "outputs": [
    {
     "name": "stdout",
     "output_type": "stream",
     "text": [
      "initializing planet\n",
      "0\n",
      "initializing planet\n",
      "1\n",
      "initializing planet\n",
      "2\n",
      "initializing planet\n",
      "3\n",
      "initializing planet\n",
      "4\n"
     ]
    }
   ],
   "source": [
    "master = tk.Tk()\n",
    "x = 600\n",
    "y = 600\n",
    "cx = x/2\n",
    "cy = y/2\n",
    "def get_pixels(cel, x):\n",
    "    return (cel.radius*x)\n",
    "w = tk.Canvas(master, width=x, height=y)\n",
    "\n",
    "def get_max(cel, x):\n",
    "    m = 0.0\n",
    "    for item in cel.celestials:\n",
    "        if item.radius > m:\n",
    "            m = item.radius\n",
    "    return (m*x)\n",
    "w.pack()\n",
    "orbital = get_pixels(star, x)/1.5\n",
    "star_image = w.create_oval(cx - get_pixels(star, x), cy - get_pixels(star, x), cx + get_pixels(star, x), cy + get_pixels(star, x))\n",
    "\n",
    "left = True\n",
    "up = 0\n",
    "m = get_max(star, x)/1.5\n",
    "lcx = cx - orbital\n",
    "lcy = cy - orbital\n",
    "rcx = cx + orbital\n",
    "rcy = cy + orbital\n",
    "\n",
    "\n",
    "\n",
    "for item in star.celestials:\n",
    "    cel_radius = get_pixels(item, x)\n",
    "    if left == True:\n",
    "        lcx = lcx - m\n",
    "        \n",
    "        left = False\n",
    "        if up == 1:\n",
    "            print(\"initializing planet\")\n",
    "            print(star.celestials.index(item))\n",
    "            lcy = lcy - cel_radius\n",
    "            w.create_oval(lcx, lcy, lcx - cel_radius, lcy - cel_radius)\n",
    "            up = 0\n",
    "            lcx = lcx - m\n",
    "            lcy = lcy - m\n",
    "            rcx = rcx + m\n",
    "            rcy = rcy + m\n",
    "            \n",
    "        else:\n",
    "            print(\"initializing planet\")\n",
    "            print(star.celestials.index(item))\n",
    "            lcy = lcy - cel_radius\n",
    "            w.create_oval(lcx, lcy, lcx - cel_radius, lcy - cel_radius)\n",
    "            lcx = lcx - m\n",
    "            lcy = lcy - m\n",
    "            rcx = rcx + m\n",
    "            rcy = rcy + m\n",
    "            up = 1\n",
    "    else:\n",
    "        rcx = rcx + cel_radius\n",
    "        left = True\n",
    "        if up == 1:\n",
    "            print(\"initializing planet\")\n",
    "            print(star.celestials.index(item))\n",
    "            rcy = rcy + cel_radius\n",
    "            \n",
    "            w.create_oval(rcx, rcy, rcx + cel_radius, rcy + cel_radius)\n",
    "            up = 0\n",
    "            lcx = lcx - m\n",
    "            lcy = lcy - m\n",
    "            rcx = rcx + m\n",
    "            rcy = rcy + m\n",
    "        else:\n",
    "            print(\"initializing planet\")\n",
    "            print(star.celestials.index(item))\n",
    "            rcy = rcy + cel_radius\n",
    "            w.create_oval(rcx, rcy, rcx + cel_radius, rcy + cel_radius)\n",
    "            up = 1\n",
    "            lcx = lcx - m\n",
    "            lcy = lcy - m\n",
    "            rcx = rcx + m\n",
    "            rcy = rcy + m\n",
    "\n",
    "w.pack()\n",
    "tk.mainloop()"
   ]
  },
  {
   "cell_type": "code",
   "execution_count": 43,
   "metadata": {
    "collapsed": false
   },
   "outputs": [
    {
     "name": "stdout",
     "output_type": "stream",
     "text": [
      "comet 0.01\n",
      "jovian 0.03\n",
      "jovian 0.03\n",
      "terrestial 0.015\n",
      "terrestial 0.015\n",
      "comet 0.01\n",
      "jovian 0.03\n",
      "comet 0.01\n",
      "jovian 0.03\n",
      "terrestial 0.015\n",
      "jovian 0.03\n"
     ]
    },
    {
     "data": {
      "text/plain": [
       "'main_sequence'"
      ]
     },
     "execution_count": 43,
     "metadata": {},
     "output_type": "execute_result"
    }
   ],
   "source": [
    "for item in star.celestials:\n",
    "    print(item.category, item.radius)\n",
    "\n",
    "star.category"
   ]
  },
  {
   "cell_type": "code",
   "execution_count": 14,
   "metadata": {
    "collapsed": false
   },
   "outputs": [
    {
     "name": "stdout",
     "output_type": "stream",
     "text": [
      "658.0 282.0\n",
      "2.75 63.0\n"
     ]
    }
   ],
   "source": [
    "print(rcx, rcy)\n",
    "print(lcx, lcy)"
   ]
  },
  {
   "cell_type": "code",
   "execution_count": 19,
   "metadata": {
    "collapsed": false
   },
   "outputs": [
    {
     "data": {
      "text/plain": [
       "(2.75, 63.0, 658.0, 202.0)"
      ]
     },
     "execution_count": 19,
     "metadata": {},
     "output_type": "execute_result"
    }
   ],
   "source": [
    "tcx = cx - star.radius\n",
    "tcy = cy - star.radius\n",
    "trcx = cx + star.radius\n",
    "trcy = cy + star.radius\n",
    "max_Coord(star, tcx, tcy, trcx, trcy)"
   ]
  },
  {
   "cell_type": "code",
   "execution_count": 20,
   "metadata": {
    "collapsed": false
   },
   "outputs": [
    {
     "data": {
      "text/plain": [
       "(-317.25, 45.0, 338.0, -22.0)"
      ]
     },
     "execution_count": 20,
     "metadata": {},
     "output_type": "execute_result"
    }
   ],
   "source": [
    "max_Coord(star, -star.radius, -star.radius, star.radius, star.radius)"
   ]
  },
  {
   "cell_type": "code",
   "execution_count": 21,
   "metadata": {
    "collapsed": false
   },
   "outputs": [
    {
     "data": {
      "text/plain": [
       "320.0"
      ]
     },
     "execution_count": 21,
     "metadata": {},
     "output_type": "execute_result"
    }
   ],
   "source": [
    "cx"
   ]
  },
  {
   "cell_type": "code",
   "execution_count": 22,
   "metadata": {
    "collapsed": false
   },
   "outputs": [
    {
     "data": {
      "text/plain": [
       "200.0"
      ]
     },
     "execution_count": 22,
     "metadata": {},
     "output_type": "execute_result"
    }
   ],
   "source": [
    "cy"
   ]
  },
  {
   "cell_type": "code",
   "execution_count": 37,
   "metadata": {
    "collapsed": true
   },
   "outputs": [],
   "source": [
    "def determineRadius(cel, w, h, whitespace):\n",
    "    '''\n",
    "    given a celestial return the number of pixels for the objects radius\n",
    "    '''\n",
    "    r = 0\n",
    "    if category == 'main_sequence':\n",
    "    elif category == 'blackhole':\n",
    "    elif category == 'dwarf':\n",
    "    elif category == 'neutron':\n",
    "    elif category == ''\n",
    "        \n",
    "        "
   ]
  },
  {
   "cell_type": "code",
   "execution_count": 38,
   "metadata": {
    "collapsed": true
   },
   "outputs": [],
   "source": []
  },
  {
   "cell_type": "code",
   "execution_count": 39,
   "metadata": {
    "collapsed": false
   },
   "outputs": [
    {
     "name": "stdout",
     "output_type": "stream",
     "text": [
      "{0: 0.025477707006369428, 1: 0.3821656050955414, 2: 0.006369426751592357, 3: 0.050955414012738856, 4: 0.07643312101910828, 5: 0.12738853503184713, 6: 0.33121019108280253}\n"
     ]
    }
   ],
   "source": []
  },
  {
   "cell_type": "code",
   "execution_count": 43,
   "metadata": {
    "collapsed": false
   },
   "outputs": [
    {
     "data": {
      "text/plain": [
       "6"
      ]
     },
     "execution_count": 43,
     "metadata": {},
     "output_type": "execute_result"
    }
   ],
   "source": []
  },
  {
   "cell_type": "code",
   "execution_count": 47,
   "metadata": {
    "collapsed": true
   },
   "outputs": [],
   "source": []
  },
  {
   "cell_type": "code",
   "execution_count": 48,
   "metadata": {
    "collapsed": false
   },
   "outputs": [
    {
     "data": {
      "text/plain": [
       "{0: 0.016194331983805668, 1: 0.242914979757085, 2: 0.004048582995951417, 3: 0.032388663967611336, 4: 0.048582995951417, 5: 0.08097165991902834, 6: 0.21052631578947367}"
      ]
     },
     "execution_count": 48,
     "metadata": {},
     "output_type": "execute_result"
    }
   ],
   "source": []
  },
  {
   "cell_type": "code",
   "execution_count": null,
   "metadata": {
    "collapsed": true
   },
   "outputs": [],
   "source": [
    "\n",
    "    "
   ]
  }
 ],
 "metadata": {
  "kernelspec": {
   "display_name": "Python 3",
   "language": "python",
   "name": "python3"
  },
  "language_info": {
   "codemirror_mode": {
    "name": "ipython",
    "version": 3
   },
   "file_extension": ".py",
   "mimetype": "text/x-python",
   "name": "python",
   "nbconvert_exporter": "python",
   "pygments_lexer": "ipython3",
   "version": "3.6.0"
  }
 },
 "nbformat": 4,
 "nbformat_minor": 2
}
